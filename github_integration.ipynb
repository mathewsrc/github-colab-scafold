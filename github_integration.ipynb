{
  "nbformat": 4,
  "nbformat_minor": 0,
  "metadata": {
    "colab": {
      "provenance": [],
      "include_colab_link": true
    },
    "kernelspec": {
      "name": "python3",
      "display_name": "Python 3"
    },
    "language_info": {
      "name": "python"
    }
  },
  "cells": [
    {
      "cell_type": "markdown",
      "metadata": {
        "id": "view-in-github",
        "colab_type": "text"
      },
      "source": [
        "<a href=\"https://colab.research.google.com/github/mathewsrc/github-colab-scafold/blob/master/github_integration.ipynb\" target=\"_parent\"><img src=\"https://colab.research.google.com/assets/colab-badge.svg\" alt=\"Open In Colab\"/></a>"
      ]
    },
    {
      "cell_type": "markdown",
      "source": [
        "### **Private Github repository using SSH**"
      ],
      "metadata": {
        "id": "PvdAKQEJ0TBn"
      }
    },
    {
      "cell_type": "code",
      "execution_count": null,
      "metadata": {
        "id": "jJXK33BHtGf7"
      },
      "outputs": [],
      "source": [
        "# create a new ssh key\n",
        "! ssh-keygen -t rsa -b 4096\n",
        "# add github.com to our known hosts\n",
        "! ssh-keyscan -t rsa github.com >> ~/.ssh/known_hosts\n",
        "# restrict the key permissions, or else SSH will complain.\n",
        "! chmod go-rwx /root/.ssh/rsa"
      ]
    },
    {
      "cell_type": "code",
      "source": [
        "# copy the output and add it to Github  \n",
        "!cat /root/.ssh/rsa.pub"
      ],
      "metadata": {
        "id": "MU0GsFzcwHnm"
      },
      "execution_count": null,
      "outputs": []
    },
    {
      "cell_type": "code",
      "source": [
        "# replace with your email and user name that you uses in your Github account\n",
        "!git config --global user.email \"your_email\"\n",
        "!git config --global user.name \"your_username\""
      ],
      "metadata": {
        "id": "52cc2l5xyXvT"
      },
      "execution_count": null,
      "outputs": []
    },
    {
      "cell_type": "code",
      "source": [
        "# test your authentication\n",
        "!ssh -T git@github.com"
      ],
      "metadata": {
        "id": "cLMxk0IpyQw7"
      },
      "execution_count": null,
      "outputs": []
    },
    {
      "cell_type": "code",
      "source": [
        "# clone your project\n",
        "!git clone git@github.com:<your_username>/<your_project>.git"
      ],
      "metadata": {
        "id": "h5EWSAITz98k"
      },
      "execution_count": null,
      "outputs": []
    },
    {
      "cell_type": "code",
      "source": [
        "# move to your project directory\n",
        "%cd /content/your_project/"
      ],
      "metadata": {
        "id": "iAEnkIpD0qnM"
      },
      "execution_count": null,
      "outputs": []
    },
    {
      "cell_type": "code",
      "source": [
        "# add files\n",
        "!git add *"
      ],
      "metadata": {
        "id": "lgEz8uiA05N1"
      },
      "execution_count": null,
      "outputs": []
    },
    {
      "cell_type": "code",
      "source": [
        "# print status\n",
        "!git status"
      ],
      "metadata": {
        "id": "emp5HBJM08y5"
      },
      "execution_count": null,
      "outputs": []
    },
    {
      "cell_type": "code",
      "source": [
        "# add a commit message\n",
        "!git commit -m \"Adding ...\""
      ],
      "metadata": {
        "id": "cQKm5eBr0-HC"
      },
      "execution_count": null,
      "outputs": []
    },
    {
      "cell_type": "code",
      "source": [
        "# push files to github\n",
        "!git push origin master"
      ],
      "metadata": {
        "id": "WRQ6OMKo1DRg"
      },
      "execution_count": null,
      "outputs": []
    }
  ]
}